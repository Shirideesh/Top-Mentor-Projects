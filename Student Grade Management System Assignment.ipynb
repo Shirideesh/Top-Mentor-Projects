{
  "metadata": {
    "kernelspec": {
      "name": "python",
      "display_name": "Python (Pyodide)",
      "language": "python"
    },
    "language_info": {
      "codemirror_mode": {
        "name": "python",
        "version": 3
      },
      "file_extension": ".py",
      "mimetype": "text/x-python",
      "name": "python",
      "nbconvert_exporter": "python",
      "pygments_lexer": "ipython3",
      "version": "3.8"
    },
    "widgets": {
      "application/vnd.jupyter.widget-state+json": {
        "version_major": 2,
        "version_minor": 0,
        "state": {}
      }
    }
  },
  "nbformat_minor": 5,
  "nbformat": 4,
  "cells": [
    {
      "id": "97415c03-6239-4d12-9324-e44654ebe020",
      "cell_type": "code",
      "source": "###Student Grade Management System\n\nstudent_dict = {} \n \n# Get the number of students \nn = int(input(\"Enter the number of students : \")) \ns = int(input(\"Enter the number of Subjects : \"))\n\n# Iterate over the range of students \nfor i in range(n): \n    name = input(\"Enter name: \") \n    subject = input(\"Enter Subject Name: \") \n    marks = float(input(\"Enter marks: \")) \n     \n    # Add the student details to the dictionary \n    student_dict[subject] = {'name': name, 'marks': marks} \n \n# Display the names of students with Average Scorer and Class Topper\n    \nprint(\"Students with Average Score:\") \nfor subject, student in student_dict.items(): \n    if student['marks'] > 60<75:\n        print(student['name'])\n    else:\n        print(\"None\")\n        \nprint(\"Class Topper :\")\nfor subject, student in student_dict.items():\n    if student['marks'] > 80 < 100:\n        print(student['name'])",
      "metadata": {
        "trusted": true
      },
      "outputs": [
        {
          "output_type": "stream",
          "name": "stdin",
          "text": "Enter the number of students :  2\nEnter the number of Subjects :  1\nEnter name:  Shhg\nEnter Subject Name:  maths\nEnter marks:  65\nEnter name:  yyuu\nEnter Subject Name:  hindi\nEnter marks:  96\n"
        },
        {
          "name": "stdout",
          "output_type": "stream",
          "text": "Students with Average Score:\nShhg\nyyuu\nClass Topper :\nyyuu\n"
        }
      ],
      "execution_count": 58
    },
    {
      "id": "12284105-ab14-4354-8a37-a46c59d67e88",
      "cell_type": "code",
      "source": "",
      "metadata": {
        "trusted": true
      },
      "outputs": [],
      "execution_count": null
    }
  ]
}