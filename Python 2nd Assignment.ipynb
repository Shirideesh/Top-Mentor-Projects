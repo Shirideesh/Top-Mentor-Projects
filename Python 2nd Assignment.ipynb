{
  "metadata": {
    "kernelspec": {
      "name": "python",
      "display_name": "Python (Pyodide)",
      "language": "python"
    },
    "language_info": {
      "codemirror_mode": {
        "name": "python",
        "version": 3
      },
      "file_extension": ".py",
      "mimetype": "text/x-python",
      "name": "python",
      "nbconvert_exporter": "python",
      "pygments_lexer": "ipython3",
      "version": "3.8"
    }
  },
  "nbformat_minor": 5,
  "nbformat": 4,
  "cells": [
    {
      "id": "db4a00de-53e0-41a2-a677-bf6fd5756b2d",
      "cell_type": "code",
      "source": "###1.\tStore a message in a variable and print it in:\n##Uppercase\n##Lowercase\n##Titlecase\n\nv = \"This is Python second Assignment\"\nprint(v.upper())\nprint(v.lower())\nprint(v.title())",
      "metadata": {
        "trusted": true
      },
      "outputs": [
        {
          "name": "stdout",
          "output_type": "stream",
          "text": "THIS IS PYTHON SECOND ASSIGNMENT\nthis is python second assignment\nThis Is Python Second Assignment\n"
        }
      ],
      "execution_count": 3
    },
    {
      "id": "389de6e7-6f75-441f-883c-2bbc244533a6",
      "cell_type": "code",
      "source": "### 2.\tStore a person’s name in a variable. Print a message such as:\n###\"Hello Alice, welcome to Python programming!\"\n\nname = \"Shirideesh\"\nprint(\"Hello\",name,\"welcome to Python programming!\")",
      "metadata": {
        "trusted": true
      },
      "outputs": [
        {
          "name": "stdout",
          "output_type": "stream",
          "text": "Hello Shirideesh welcome to Python programming!\n"
        }
      ],
      "execution_count": 4
    },
    {
      "id": "ed216a48-652c-4f6d-9078-76353c4a2e3f",
      "cell_type": "code",
      "source": "## 3.\tStore a word in a variable and print:\n##o\tThe first character\n##o\tThe last character\n##o\tThe length of the word\n\nwv = \"Python\"\nprint(wv[0])\nprint(wv[4])\nprint(len(wv))",
      "metadata": {
        "trusted": true
      },
      "outputs": [
        {
          "name": "stdout",
          "output_type": "stream",
          "text": "P\no\n6\n"
        }
      ],
      "execution_count": 8
    },
    {
      "id": "a39de8b4-9eed-4067-84ec-c5862c230561",
      "cell_type": "code",
      "source": "###4.\tFind your favorite quote and print it with quotation marks. Example:\n###\"Mahatma Gandhi once said, “Be the change that you wish to see in the world.”\n\nauthor = \"Jodi Picoult\"\nqoute = \"You can always edit a bad page. You can't edit a blank page.\"\nprint(author,\"once said\", qoute)",
      "metadata": {
        "trusted": true
      },
      "outputs": [
        {
          "name": "stdout",
          "output_type": "stream",
          "text": "Jodi Picoult once said You can always edit a bad page. You can't edit a blank page.\n"
        }
      ],
      "execution_count": 42
    },
    {
      "id": "f46afc27-52d1-4aa2-bc69-1af3c4707a95",
      "cell_type": "code",
      "source": "### 5.Store two strings in different variables and print them joined with a space in between.\n\nv1 = \"Data\"\nv2 = \"Scientist\"\nprint(v1,v2)",
      "metadata": {
        "trusted": true
      },
      "outputs": [
        {
          "name": "stdout",
          "output_type": "stream",
          "text": "Data Scientist\n"
        }
      ],
      "execution_count": 29
    },
    {
      "id": "232dcca9-66d6-4a10-84ea-26016132d328",
      "cell_type": "code",
      "source": "### 6.\tStore a sentence in a variable and check if it contains the word \"Python\". Print True or False.\n\np = \"Myself joined in Data Science and Gen AI Online Course and now I am learning Python session\"\nif \"Python\" in p:\n    print(\"True\")\nelse:\n    print(\"False\")",
      "metadata": {
        "trusted": true
      },
      "outputs": [
        {
          "name": "stdout",
          "output_type": "stream",
          "text": "True\n"
        }
      ],
      "execution_count": 31
    },
    {
      "id": "beb6e83d-4435-434d-bc9b-296e5d8388ec",
      "cell_type": "code",
      "source": "### 7.\tAsk the user to enter their name and print:\n###\"Hello <name>, how are you today?\"\n\nuser = input(\"Enter your Name - \")\nprint(f\"Hello, {user}, how are you today?\")",
      "metadata": {
        "trusted": true
      },
      "outputs": [
        {
          "output_type": "stream",
          "name": "stdin",
          "text": "Enter your Name -  Anjumaster\n"
        },
        {
          "name": "stdout",
          "output_type": "stream",
          "text": "Hello, Anjumaster, how are you today?\n"
        }
      ],
      "execution_count": 48
    },
    {
      "id": "7dd1628d-a4f3-4943-b9eb-7da5cde53f0d",
      "cell_type": "code",
      "source": "###8.\tAsk the user to enter their age and print:\n###\"You are <age> years old.\"\n\nage = input(\"Enter your Age - \")\nprint(f\"You are, {age} years old.\")",
      "metadata": {
        "trusted": true
      },
      "outputs": [
        {
          "output_type": "stream",
          "name": "stdin",
          "text": "Enter your Age -  27\n"
        },
        {
          "name": "stdout",
          "output_type": "stream",
          "text": "You are, 27 years old.\n"
        }
      ],
      "execution_count": 49
    },
    {
      "id": "abfbea07-99bb-4caf-9a45-f4809170133f",
      "cell_type": "code",
      "source": "### 9.\tAsk the user for two numbers and print their:\n##o\tSum\n##o\tDifference\n##o\tProduct\n##o\tQuotient\n\na = int(input(\"Enter the first number - \"))\nb = int(input(\"Enter the second number - \"))\nprint(a + b)\nprint(a - b)\nprint(a * b)\nprint(a / b)",
      "metadata": {
        "trusted": true
      },
      "outputs": [
        {
          "output_type": "stream",
          "name": "stdin",
          "text": "Enter the first number -  12\nEnter the second number -  85\n"
        },
        {
          "name": "stdout",
          "output_type": "stream",
          "text": "97\n-73\n1020\n0.1411764705882353\n"
        }
      ],
      "execution_count": 56
    },
    {
      "id": "ca7e70cc-ab2e-48f0-9c53-aea3261d2194",
      "cell_type": "code",
      "source": "### 10.\tAsk the user to enter a sentence and print it reversed.\n\nen = input(\"Hello, Please Enter the Sentence Here - \")\nprint(\" \".join(reversed(en)))",
      "metadata": {
        "trusted": true
      },
      "outputs": [
        {
          "output_type": "stream",
          "name": "stdin",
          "text": "Hello, Please Enter the Sentence Here -  I made Chicken and Mutton Biryani Today.\n"
        },
        {
          "name": "stdout",
          "output_type": "stream",
          "text": ". y a d o T   i n a y r i B   n o t t u M   d n a   n e k c i h C   e d a m   I\n"
        }
      ],
      "execution_count": 68
    },
    {
      "id": "64967b5d-27c9-443e-9663-aafc7b69ad8b",
      "cell_type": "code",
      "source": "### 11.\tAsk the user for their favorite color and print:\n###\"Wow! <color> is a beautiful color!\"\n\nc = input(\"Please Enter your favourite Colour - \")\nprint(f\"'Wow!,{c}, is a beautiful color!'\")",
      "metadata": {
        "trusted": true
      },
      "outputs": [
        {
          "output_type": "stream",
          "name": "stdin",
          "text": "Please Enter your favourite Colour -  Blue\n"
        },
        {
          "name": "stdout",
          "output_type": "stream",
          "text": "'Wow!,Blue, is a beautiful color!'\n"
        }
      ],
      "execution_count": 69
    },
    {
      "id": "2944a773-0d5a-4be6-bcc8-3b762ea18d7f",
      "cell_type": "code",
      "source": "### 12.\tAsk the user to enter a number and print True if it is greater than 50, otherwise print False.\n\ni = int(input(\"Please Enter any Number of your Choice - \"))\nif i > 50 :\n    print(\"True\")\nelse:\n    print(\"False\")",
      "metadata": {
        "trusted": true
      },
      "outputs": [
        {
          "output_type": "stream",
          "name": "stdin",
          "text": "Please Enter any Number of your Choice -  12\n"
        },
        {
          "name": "stdout",
          "output_type": "stream",
          "text": "False\n"
        }
      ],
      "execution_count": 71
    },
    {
      "id": "ae618417-5144-430b-a5ff-97b79e2584bf",
      "cell_type": "code",
      "source": "### 13.\tAsk the user to enter a number and print True if it is even, otherwise print False.\n\no = int(input(\"Enter any Number please ? \"))\nif o % 2 :\n    print(\"FALSE\")\nelse:\n    print(\"TRUE\")",
      "metadata": {
        "trusted": true
      },
      "outputs": [
        {
          "output_type": "stream",
          "name": "stdin",
          "text": "Enter any Number please ?  8\n"
        },
        {
          "name": "stdout",
          "output_type": "stream",
          "text": "TRUE\n"
        }
      ],
      "execution_count": 77
    },
    {
      "id": "640ae709-47c3-42c6-a3a0-261d37f72f84",
      "cell_type": "code",
      "source": "### 14.\tAsk the user to enter their age and check if they are eligible to vote (age ≥ 18). Print True or False.\n\ng = int(input(\"Enter your Age Here - \"))\nif g >= 18 :\n    print(\"true\")\nelse:\n    print(\"false\")",
      "metadata": {
        "trusted": true
      },
      "outputs": [
        {
          "output_type": "stream",
          "name": "stdin",
          "text": "Enter your Age Here -  18\n"
        },
        {
          "name": "stdout",
          "output_type": "stream",
          "text": "true\n"
        }
      ],
      "execution_count": 81
    },
    {
      "id": "e0ac33e3-22f5-4825-9aab-7a7f43da05b2",
      "cell_type": "code",
      "source": "### 15.\tAsk the user to enter two numbers and print True if the first number is greater than the second, else print False.\n\nn1 = int(input(\"Enter the number of your Choice 1 - \"))\nn2 = int(input(\"Enter the number of your Choice 2 - \"))\nif n1 > n2 :\n    print(\"True\")\nelse:\n    print(\"False\")",
      "metadata": {
        "trusted": true
      },
      "outputs": [
        {
          "output_type": "stream",
          "name": "stdin",
          "text": "Enter the number of your Choice 1 -  65\nEnter the number of your Choice 2 -  89\n"
        },
        {
          "name": "stdout",
          "output_type": "stream",
          "text": "False\n"
        }
      ],
      "execution_count": 85
    },
    {
      "id": "16718095-cd8b-48c5-aa5d-0b363e3e6bf3",
      "cell_type": "code",
      "source": "### 16.\tAsk the user to enter a word and check if its length is more than 5 characters. Print True or False.\n\nd = input(\"Enter any Word Here - \")\nif int(len(d) > 5) :\n    print(\"True\")\nelse:\n    print(\"False\")",
      "metadata": {
        "trusted": true
      },
      "outputs": [
        {
          "output_type": "stream",
          "name": "stdin",
          "text": "Enter any Word Here -  usa\n"
        },
        {
          "name": "stdout",
          "output_type": "stream",
          "text": "False\n"
        }
      ],
      "execution_count": 94
    },
    {
      "id": "a9e73aeb-a5db-4caa-8b8b-18e99258ca25",
      "cell_type": "code",
      "source": "###17.\tWrite a program that asks the user to enter a password.\n#Your program should check and print:\n## - True if the password length is at least 8 characters and contains the word \"@\" or \"#\".\n## - False otherwise.\n\ndef check_password_strength():\n    \"\"\"\n    Prompts the user for a password and checks if it meets the criteria:\n    - At least 8 characters long.\n    - Contains either '@' or '#'.\n    Prints True if valid, False otherwise.\n    \"\"\"\n    password = input(\"Enter your password: \")\n\n    is_long_enough = len(password) >= 8\n    contains_special_char = '@' in password or '#' in password\n\n    if is_long_enough and contains_special_char:\n        print(True)\n    else:\n        print(False)\n\n# Call the function to run the program\ncheck_password_strength()",
      "metadata": {
        "trusted": true
      },
      "outputs": [
        {
          "output_type": "stream",
          "name": "stdin",
          "text": "Enter your password:  Buntyhj\n"
        },
        {
          "name": "stdout",
          "output_type": "stream",
          "text": "False\n"
        }
      ],
      "execution_count": 102
    },
    {
      "id": "4b134d09-2948-4ac9-aca4-bdd8990cb5b0",
      "cell_type": "code",
      "source": "check_password_strength()",
      "metadata": {
        "trusted": true
      },
      "outputs": [
        {
          "output_type": "stream",
          "name": "stdin",
          "text": "Enter your password:  Python@123\n"
        },
        {
          "name": "stdout",
          "output_type": "stream",
          "text": "True\n"
        }
      ],
      "execution_count": 103
    },
    {
      "id": "e769b074-976b-4c47-8515-724a85b59fd3",
      "cell_type": "code",
      "source": "",
      "metadata": {
        "trusted": true
      },
      "outputs": [],
      "execution_count": null
    },
    {
      "id": "5aa28066-28f0-4f29-94e1-aaa80acbb9a0",
      "cell_type": "markdown",
      "source": "",
      "metadata": {}
    }
  ]
}