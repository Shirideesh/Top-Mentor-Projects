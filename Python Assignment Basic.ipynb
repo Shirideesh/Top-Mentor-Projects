{
 "cells": [
  {
   "cell_type": "code",
   "execution_count": null,
   "id": "a2baf48c-fad6-4f81-b657-47efddbb8e65",
   "metadata": {},
   "outputs": [],
   "source": [
    "###1) Store the message in variable and print the message"
   ]
  },
  {
   "cell_type": "code",
   "execution_count": 1,
   "id": "919fde20-f785-4e88-9e60-f317c1d86d93",
   "metadata": {},
   "outputs": [
    {
     "name": "stdout",
     "output_type": "stream",
     "text": [
      "This is Python Message\n"
     ]
    }
   ],
   "source": [
    "message = \"This is Python Message\"\n",
    "print(message)"
   ]
  },
  {
   "cell_type": "code",
   "execution_count": null,
   "id": "749376bf-e9b4-43a7-a6d2-e82c9be771b5",
   "metadata": {},
   "outputs": [],
   "source": [
    "###2) Store a message in a variable and print that message. Then change the value of your variable to a new message and print the new message."
   ]
  },
  {
   "cell_type": "code",
   "execution_count": 2,
   "id": "2e43adff-0786-4cac-854c-80367bf44c2b",
   "metadata": {},
   "outputs": [
    {
     "name": "stdout",
     "output_type": "stream",
     "text": [
      "This is Python Message\n",
      "I am attending fantastic sessions\n"
     ]
    }
   ],
   "source": [
    "message = \"This is Python Message\"\n",
    "print(message)\n",
    "\n",
    "new_msg = \"I am attending fantastic sessions\"\n",
    "print(new_msg)"
   ]
  },
  {
   "cell_type": "code",
   "execution_count": null,
   "id": "df2c5386-a4d1-4caa-b8db-963941e4ffcb",
   "metadata": {},
   "outputs": [],
   "source": [
    "###3) Store a person’s name in a variable and print a message to that person. Your message should be simple, such as, “Hello Eric, would you like to learn some Python today?”"
   ]
  },
  {
   "cell_type": "code",
   "execution_count": 18,
   "id": "7917c777-90ae-48b2-b912-ffaa18193357",
   "metadata": {},
   "outputs": [
    {
     "name": "stdout",
     "output_type": "stream",
     "text": [
      "Hello Sravya would you like to learn some Python today\n"
     ]
    }
   ],
   "source": [
    "###Storing the person's name in variable and printing a message.\n",
    "###Shirideesh Kalali\n",
    "\n",
    "name=\"Sravya\"\n",
    "print(\"Hello\",name, \"would you like to learn some Python today\")"
   ]
  },
  {
   "cell_type": "code",
   "execution_count": null,
   "id": "8e557a37-4e45-4329-9a09-2092334286e3",
   "metadata": {},
   "outputs": [],
   "source": [
    "###4) Find a quote from a famous person you admire. Print the quote and the name of its author. Your output should look something like the following, including the quotation marks: Albert Einstein once said, “A person who never made a mistake never tried anything new.”"
   ]
  },
  {
   "cell_type": "code",
   "execution_count": 5,
   "id": "2d98b558-03d6-486e-b8d1-ebbec3bd3e74",
   "metadata": {},
   "outputs": [
    {
     "name": "stdout",
     "output_type": "stream",
     "text": [
      "Albert Einstein once said, \"A person who never made a mistake.\"\n",
      "Lilly Pulitzer once said, \"Being happy never goes out of style.\"\n"
     ]
    }
   ],
   "source": [
    "print('Albert Einstein once said, \"A person who never made a mistake.\"')\n",
    "print('Lilly Pulitzer once said, \"Being happy never goes out of style.\"')"
   ]
  },
  {
   "cell_type": "code",
   "execution_count": null,
   "id": "ba9d38c9-0fcb-4727-a3e0-79c49f8b6e71",
   "metadata": {},
   "outputs": [],
   "source": [
    "###5) Repeat the above excersice again, but this time store the famous person’s name in a variable called famous_person. Then compose your message and store it in a new variable called message. Print your message."
   ]
  },
  {
   "cell_type": "code",
   "execution_count": 6,
   "id": "acf75be7-7865-4be3-8507-7ea59bdece6d",
   "metadata": {},
   "outputs": [
    {
     "name": "stdout",
     "output_type": "stream",
     "text": [
      "Gabrielle Bernstein once said, \"True abundance isn’t based on our net worth, it’s based on our self-worth.\"\n"
     ]
    }
   ],
   "source": [
    "famous_person = \"Gabrielle Bernstein\"\n",
    "\n",
    "message = f'{famous_person} once said, \"True abundance isn’t based on our net worth, it’s based on our self-worth.\"'\n",
    "\n",
    "print(message)"
   ]
  },
  {
   "cell_type": "code",
   "execution_count": null,
   "id": "9d2ea968-108b-42cf-af92-9459a797230c",
   "metadata": {},
   "outputs": [],
   "source": [
    "###6) Write addition, subtraction, multiplication, and division operations that each result in the number 8. Be sure to enclose your operations in print statements to see the results. You should create four lines that look like this: print (5 + 3)\n",
    "###Your output should simply be four lines with the number 8 appearing once on each line."
   ]
  },
  {
   "cell_type": "code",
   "execution_count": 8,
   "id": "675f6e08-6f1e-4dd3-bbf8-61a0a4228e01",
   "metadata": {},
   "outputs": [
    {
     "name": "stdout",
     "output_type": "stream",
     "text": [
      "print(5 + 3)\n",
      "print(4 * 2)\n",
      "print(10 - 2)\n",
      "print(16 / 2)\n"
     ]
    }
   ],
   "source": [
    "print(\"print(5 + 3)\")\n",
    "print(\"print(4 * 2)\")\n",
    "print(\"print(10 - 2)\")\n",
    "print(\"print(16 / 2)\")"
   ]
  },
  {
   "cell_type": "code",
   "execution_count": null,
   "id": "91846986-0c4e-4585-8b99-37df1d791a93",
   "metadata": {},
   "outputs": [],
   "source": [
    "###7) Store your favourite number in a variable. Then, using that variable, create a message that reveals your favourite number. Print that message."
   ]
  },
  {
   "cell_type": "code",
   "execution_count": 19,
   "id": "19aa37cd-6d95-497f-a178-30eea07f0c69",
   "metadata": {},
   "outputs": [
    {
     "name": "stdout",
     "output_type": "stream",
     "text": [
      "My Favourite Number is 7598.\n"
     ]
    }
   ],
   "source": [
    "###Storing the favorite number into a variable and revealing the favourite number\n",
    "###Shirideesh Kalali\n",
    "\n",
    "fn = 7598\n",
    "msging = f\"My Favourite Number is {fn}.\"\n",
    "print(msging)"
   ]
  },
  {
   "cell_type": "code",
   "execution_count": null,
   "id": "1f5e8bd0-31f5-4fbe-967a-04c71072904a",
   "metadata": {},
   "outputs": [],
   "source": [
    "###8) Choose two of the programs you’ve written and add at least one comment to each. If you don’t have anything specific to write because your programs are too simple at this point, just add your name and the current date at the top of each program file. Then write one sentence describing what the program does."
   ]
  },
  {
   "cell_type": "code",
   "execution_count": 22,
   "id": "425241c9-bcc3-4bd6-9cb6-3357e4a58d23",
   "metadata": {},
   "outputs": [
    {
     "name": "stdout",
     "output_type": "stream",
     "text": [
      "Shirideesh Kalali\n",
      "Date- 20:09:2025\n",
      "I have done the above for program 7 & program 3.\n",
      "One comment for both Programs - In Program 7, we are storing the favorite number into a variable and revealing the favourite number. Whereas, In Program 3, we are Storing the person's name in variable and printing a message.\n"
     ]
    }
   ],
   "source": [
    "print(\"Shirideesh Kalali\")\n",
    "print(\"Date- 20:09:2025\")\n",
    "print(\"I have done the above for program 7 & program 3.\")\n",
    "print(\"One comment for both Programs - In Program 7, we are storing the favorite number into a variable and revealing the favourite number. Whereas, In Program 3, we are Storing the person's name in variable and printing a message.\") "
   ]
  },
  {
   "cell_type": "code",
   "execution_count": null,
   "id": "d55a8b39-5aac-4870-8c09-0ccee6b247dc",
   "metadata": {},
   "outputs": [],
   "source": [
    "###9) Store the names of a few of your friends in a list called names. Print each person’s name by accessing each element in the list, one at a time."
   ]
  },
  {
   "cell_type": "code",
   "execution_count": 11,
   "id": "55f8ff32-3aff-4373-8eab-b4c96f8622fb",
   "metadata": {},
   "outputs": [
    {
     "name": "stdout",
     "output_type": "stream",
     "text": [
      "Shirideesh\n",
      "Sravya\n",
      "Sheershika\n",
      "Meena\n",
      "Anja Goud\n"
     ]
    }
   ],
   "source": [
    "Names = ['Shirideesh','Sravya', 'Sheershika', 'Meena', 'Anja Goud']\n",
    "print(Names[0])\n",
    "print(Names[1])\n",
    "print(Names[2])\n",
    "print(Names[3])\n",
    "print(Names[4])"
   ]
  },
  {
   "cell_type": "code",
   "execution_count": null,
   "id": "9b89e391-4aab-4115-b2eb-f5caa2b5537c",
   "metadata": {},
   "outputs": [],
   "source": [
    "### 10) Start with the list you used in above Exercise, but instead of just printing each person’s name, print a message to them. The text of each message should be the same, but each message should be personalized with the person’s name."
   ]
  },
  {
   "cell_type": "code",
   "execution_count": 13,
   "id": "9734d06e-bd17-4083-b193-fdf71db45971",
   "metadata": {},
   "outputs": [
    {
     "name": "stdout",
     "output_type": "stream",
     "text": [
      "Shirideesh \"Please grant me leave for this one day. Thank you\"\n",
      "Sravya \"Please grant me leave for this one day. Thank you\"\n",
      "Sheershika \"Please grant me leave for this one day. Thank you\"\n",
      "Meena \"Please grant me leave for this one day. Thank you\"\n",
      "Anja Goud \"Please grant me leave for this one day. Thank you\"\n"
     ]
    }
   ],
   "source": [
    "Names = ['Shirideesh','Sravya', 'Sheershika', 'Meena', 'Anja Goud']\n",
    "msg = \"Please grant me leave for this one day. Thank you\"\n",
    "print(f\"{Names[0]} \\\"{msg}\\\"\")\n",
    "print(f\"{Names[1]} \\\"{msg}\\\"\")\n",
    "print(f\"{Names[2]} \\\"{msg}\\\"\")\n",
    "print(f\"{Names[3]} \\\"{msg}\\\"\")\n",
    "print(f\"{Names[4]} \\\"{msg}\\\"\")"
   ]
  },
  {
   "cell_type": "code",
   "execution_count": null,
   "id": "f2a48939-bc4c-4e7c-930b-3cde6da8f9f9",
   "metadata": {},
   "outputs": [],
   "source": [
    "### 11) Think of your favourite mode of transportation, such as a motorcycle or a car, and make a list that stores several examples. Use your list to print a series of statements about these items, such as “I would like to own a Honda motorcycle.”"
   ]
  },
  {
   "cell_type": "code",
   "execution_count": 14,
   "id": "dba8444f-5dbb-4e63-8a2f-081c95f066b4",
   "metadata": {},
   "outputs": [
    {
     "name": "stdout",
     "output_type": "stream",
     "text": [
      "I would love to drive BMW Car once in my Lifetime.\n",
      "I love to ride Royal Enfield (or) Hardley Davidson Bike.\n",
      "I like to travel in Aeroplane for a World Tour if possible in my Life.\n",
      "I will travel in Train Frequently to cover the places in India\n",
      "I would love to travel in Ship once in a Year\n"
     ]
    }
   ],
   "source": [
    "MOT =['Car','Bike','Aeroplane','Train','Ship']\n",
    "print(f\"I would love to drive BMW {MOT[0]} once in my Lifetime.\")\n",
    "print(f\"I love to ride Royal Enfield (or) Hardley Davidson {MOT[1]}.\")\n",
    "print(f\"I like to travel in {MOT[2]} for a World Tour if possible in my Life.\")\n",
    "print(f\"I will travel in {MOT[3]} Frequently to cover the places in India\")\n",
    "print(f\"I would love to travel in {MOT[4]} once in a Year\")"
   ]
  },
  {
   "cell_type": "code",
   "execution_count": null,
   "id": "5590cfa0-9a3d-4477-aeed-b723d19e0ca2",
   "metadata": {},
   "outputs": [],
   "source": []
  }
 ],
 "metadata": {
  "kernelspec": {
   "display_name": "Python 3 (ipykernel)",
   "language": "python",
   "name": "python3"
  },
  "language_info": {
   "codemirror_mode": {
    "name": "ipython",
    "version": 3
   },
   "file_extension": ".py",
   "mimetype": "text/x-python",
   "name": "python",
   "nbconvert_exporter": "python",
   "pygments_lexer": "ipython3",
   "version": "3.13.5"
  }
 },
 "nbformat": 4,
 "nbformat_minor": 5
}
