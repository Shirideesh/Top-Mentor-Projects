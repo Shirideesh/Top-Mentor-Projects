{
  "metadata": {
    "kernelspec": {
      "name": "python",
      "display_name": "Python (Pyodide)",
      "language": "python"
    },
    "language_info": {
      "codemirror_mode": {
        "name": "python",
        "version": 3
      },
      "file_extension": ".py",
      "mimetype": "text/x-python",
      "name": "python",
      "nbconvert_exporter": "python",
      "pygments_lexer": "ipython3",
      "version": "3.8"
    }
  },
  "nbformat_minor": 5,
  "nbformat": 4,
  "cells": [
    {
      "id": "0852ece6-99c8-417e-b69f-f9e95f55faf7",
      "cell_type": "code",
      "source": "###Initial Balance\nbalance = 10000.0\n\ndef user_id():\n    input(\"Please Enter your good Name - \")\n    \ndef check_balance():\n    pin = int(input(\"Please Enter your ATM PIN - \"))\n    if pin == 151798 :\n        print(f\"Your current balance is - {balance}\")\n    else:\n        print(\"Invalid PIN\")\n    \ndef deposit():\n    global balance\n    pin = int(input(\"Please Enter your ATM PIN -\"))\n    if pin == 151798 :\n        amount = float(input(\"Enter the amount to deposit - \"))\n        if amount > 0:\n            balance = balance + amount\n            print(f\"{amount} deposited successfully\")\n        else:\n            print(\"Invalid Deposit Amount or Wrong PIN\")\n        \ndef withdraw():\n    global balance\n    pin = int(input(\"Please Enter your ATM PIN -\"))\n    if pin == 151798 :\n        amount = float(input(\"Enter the amount to deposit - \"))\n        if 0 < amount <= balance:\n            balance = balance - amount\n            print(f\"{amount} withdrawn successfully\")\n        else:\n            print(\"Invalid Withdrawn Amount or Wrong PIN\")\n        \n\ndef pinverify():\n    pin = int(input(\"Please Enter your ATM PIN - \"))\n    if pin == 151798 :\n        print(\"Thank you for the PIN\")\n    else:\n        print(\"Invalid PIN\")\n\ndef atm():\n    print(\"Welcome To ATM...\")\n    while True:\n        print(\"\\n ---- Menu ------\")\n        print(\"1. User\")\n        print(\"2. Check Balance\")\n        print(\"3. Deposit\")\n        print(\"4. Withdraw\")\n        print(\"5. Pin Verify\")\n        print(\"6. Exit\")\n        \n        choice = input(\"Now, Please Opt out your Selection - \")\n        if choice == '1':\n            user_id()\n        elif choice == '2' :\n            check_balance()\n        elif choice == '3' :\n            deposit()\n        elif choice == '4' :\n            withdraw()\n        elif choice == '5':\n            pinverify()\n        elif choice == '6' :\n            print(\"Thank you so much for using this ATM. See you again!! \")\n            break\n        else:\n            print(\"Invalid Choice, Please choose from 1 - 6\")",
      "metadata": {
        "trusted": true
      },
      "outputs": [],
      "execution_count": 16
    },
    {
      "id": "19500b44-d4dc-4caf-8dcb-c5c50d43f5eb",
      "cell_type": "code",
      "source": "atm()",
      "metadata": {
        "trusted": true
      },
      "outputs": [
        {
          "name": "stdout",
          "output_type": "stream",
          "text": "Welcome To ATM...\n\n ---- Menu ------\n1. User\n2. Check Balance\n3. Deposit\n4. Withdraw\n5. Pin Verify\n6. Exit\n"
        },
        {
          "output_type": "stream",
          "name": "stdin",
          "text": "Now, Please Opt out your Selection -  1\nPlease Enter your good Name -  Sravya\n"
        },
        {
          "name": "stdout",
          "output_type": "stream",
          "text": "\n ---- Menu ------\n1. User\n2. Check Balance\n3. Deposit\n4. Withdraw\n5. Pin Verify\n6. Exit\n"
        },
        {
          "output_type": "stream",
          "name": "stdin",
          "text": "Now, Please Opt out your Selection -  2\nPlease Enter your ATM PIN -  151798\n"
        },
        {
          "name": "stdout",
          "output_type": "stream",
          "text": "Your current balance is - 10000.0\n\n ---- Menu ------\n1. User\n2. Check Balance\n3. Deposit\n4. Withdraw\n5. Pin Verify\n6. Exit\n"
        },
        {
          "output_type": "stream",
          "name": "stdin",
          "text": "Now, Please Opt out your Selection -  3\nPlease Enter your ATM PIN - 151798\nEnter the amount to deposit -  50000\n"
        },
        {
          "name": "stdout",
          "output_type": "stream",
          "text": "50000.0 deposited successfully\n\n ---- Menu ------\n1. User\n2. Check Balance\n3. Deposit\n4. Withdraw\n5. Pin Verify\n6. Exit\n"
        },
        {
          "output_type": "stream",
          "name": "stdin",
          "text": "Now, Please Opt out your Selection -  2\nPlease Enter your ATM PIN -  151798\n"
        },
        {
          "name": "stdout",
          "output_type": "stream",
          "text": "Your current balance is - 60000.0\n\n ---- Menu ------\n1. User\n2. Check Balance\n3. Deposit\n4. Withdraw\n5. Pin Verify\n6. Exit\n"
        },
        {
          "output_type": "stream",
          "name": "stdin",
          "text": "Now, Please Opt out your Selection -  6\n"
        },
        {
          "name": "stdout",
          "output_type": "stream",
          "text": "Thank you so much for using this ATM. See you again!! \n"
        }
      ],
      "execution_count": 17
    },
    {
      "id": "5cdca3ee-7325-4850-b579-8beb70c294b9",
      "cell_type": "code",
      "source": "",
      "metadata": {
        "trusted": true
      },
      "outputs": [],
      "execution_count": null
    }
  ]
}