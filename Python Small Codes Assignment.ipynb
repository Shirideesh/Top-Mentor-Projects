{
  "metadata": {
    "kernelspec": {
      "name": "python",
      "display_name": "Python (Pyodide)",
      "language": "python"
    },
    "language_info": {
      "codemirror_mode": {
        "name": "python",
        "version": 3
      },
      "file_extension": ".py",
      "mimetype": "text/x-python",
      "name": "python",
      "nbconvert_exporter": "python",
      "pygments_lexer": "ipython3",
      "version": "3.8"
    },
    "widgets": {
      "application/vnd.jupyter.widget-state+json": {
        "version_major": 2,
        "version_minor": 0,
        "state": {}
      }
    }
  },
  "nbformat_minor": 5,
  "nbformat": 4,
  "cells": [
    {
      "id": "a1696dc9-cfbc-43d8-ac57-f06c57f55adb",
      "cell_type": "code",
      "source": "### 16. Create a list of squares of numbers from 1 to 20 using list comprehension.\n\nx = [1,2,3,4,5,6,7,8,9,10,11,12,13,14,15,16,17,18,19,20]\nfor i in x :\n    print(i*i)\n",
      "metadata": {
        "trusted": true
      },
      "outputs": [
        {
          "name": "stdout",
          "output_type": "stream",
          "text": "1\n4\n9\n16\n25\n36\n49\n64\n81\n100\n121\n144\n169\n196\n225\n256\n289\n324\n361\n400\n"
        }
      ],
      "execution_count": 85
    },
    {
      "id": "e6f525f4-3fce-4549-b4cd-03a996066fa3",
      "cell_type": "code",
      "source": "### 17. Given a list of integers, use list comprehension to separate even and odd numbers.\n\neven_odd_list = [1, 3, 78, 23, 5, 18, 37, 9, 4, 2, 0, 11]\n\neven = []   # a list for even numbers\n\nodd = []    # a list for odd numbers\n\nfor num in even_odd_list:   # for each number in the original list,\n    if num % 2 == 0:        # if dividing the number by 2 gives a remainder of 0,\n        even.append(num)    # add the number to the list of even.\n    else:\n        odd.append(num)     # otherwise, append it to the list of odd\n\n# This empty list will contain the populated even and odd lists\nseparated = []\n\nseparated.append(even)  # append the list of even to separated\n\nseparated.append(odd)   # append the list of odd to separated\n\nprint(separated)",
      "metadata": {
        "trusted": true
      },
      "outputs": [
        {
          "name": "stdout",
          "output_type": "stream",
          "text": "[[78, 18, 4, 2, 0], [1, 3, 23, 5, 37, 9, 11]]\n"
        }
      ],
      "execution_count": 86
    },
    {
      "id": "2106ee80-9975-4e0e-8e41-ef08d45fffb2",
      "cell_type": "code",
      "source": "### 18. Input a string and count the number of vowels using loops.\n\nname = input(\"Enter your Name - \")\nprint(name)\ns = set(name)\nprint(s)\nv = {'a','e','i','o','u'}\nd = s.intersection(v)\nprint(\"The Vowels present in the Name - \",d)",
      "metadata": {
        "trusted": true
      },
      "outputs": [
        {
          "output_type": "stream",
          "name": "stdin",
          "text": "Enter your Name -  Shirideesh\n"
        },
        {
          "name": "stdout",
          "output_type": "stream",
          "text": "Shirideesh\n{'i', 'h', 's', 'e', 'd', 'S', 'r'}\nThe Vowels present in the Name -  {'i', 'e'}\n"
        }
      ],
      "execution_count": 87
    },
    {
      "id": "f83e607d-471f-4551-8ce6-a4dcab5eca74",
      "cell_type": "code",
      "source": "### 19. Print multiplication table for a given number using loops.\n\ntable = int(input(\"Enter a number to generate its multiplication table: \"))\ntableSize = range(1,11)\nfor x in tableSize:\n    result = table * x\n    print(table,\" * \",x,\" = \",result)",
      "metadata": {
        "trusted": true
      },
      "outputs": [
        {
          "output_type": "stream",
          "name": "stdin",
          "text": "Enter a number to generate its multiplication table:  17\n"
        },
        {
          "name": "stdout",
          "output_type": "stream",
          "text": "17  *  1  =  17\n17  *  2  =  34\n17  *  3  =  51\n17  *  4  =  68\n17  *  5  =  85\n17  *  6  =  102\n17  *  7  =  119\n17  *  8  =  136\n17  *  9  =  153\n17  *  10  =  170\n"
        }
      ],
      "execution_count": 88
    },
    {
      "id": "ab6f88fd-101b-4d26-9711-6976b291f88c",
      "cell_type": "code",
      "source": "### 20. Find common elements between two lists using list comprehension.\n\nx = {'Shirideesh','Sravya','Sheershika','Sai Baba'}\ny = {'Sai Baba','Shirideesh','Vinayaka','Hanuman'}\nprint (x.intersection(y))",
      "metadata": {
        "trusted": true
      },
      "outputs": [
        {
          "name": "stdout",
          "output_type": "stream",
          "text": "{'Shirideesh', 'Sai Baba'}\n"
        }
      ],
      "execution_count": 89
    },
    {
      "id": "25e24801-c366-43d7-a473-ffbe5c7acf88",
      "cell_type": "code",
      "source": "### 21. Create a dictionary by zipping two lists (keys and values).\n\nkeys = {'Salary','Profession','Name','Age'}\nvalues = {100000, 'IT employee', 'Shirideesh', 23}\ndictionary = dict([(k, v) for k, v in zip(keys, values)])\nprint(dictionary)",
      "metadata": {
        "trusted": true
      },
      "outputs": [
        {
          "name": "stdout",
          "output_type": "stream",
          "text": "{'Age': 100000, 'Profession': 'IT employee', 'Name': 'Shirideesh', 'Salary': 23}\n"
        }
      ],
      "execution_count": 90
    },
    {
      "id": "64fd1908-98a5-4757-acdc-e9b115892470",
      "cell_type": "code",
      "source": "### 22. Create a dictionary where keys are words and values are their lengths using comprehension.\n\nkeys = [\"name\", \"age\", \"city\"]\nvalues = [4, 3, 4]\nd = dict([(k, v) for k, v in zip(keys, values)])\nprint(d)",
      "metadata": {
        "trusted": true
      },
      "outputs": [
        {
          "name": "stdout",
          "output_type": "stream",
          "text": "{'name': 4, 'age': 3, 'city': 4}\n"
        }
      ],
      "execution_count": 91
    },
    {
      "id": "cf77cc83-0ded-489f-afa1-21106743cc94",
      "cell_type": "code",
      "source": "### 23. Generate all prime numbers between 1 and 100 using list comprehension.\n\nx, y = 1, 100  \n\nres = []  ##list for prime numbers\n\nfor n in range(x, y + 1):\n    if n <= 1:\n        continue  # skip non-primes <= 1\n\n    is_prime = True  # assume n is prime\n    for i in range(2, int(n ** 0.5) + 1):\n        if n % i == 0:\n            is_prime = False  # n is not prime\n            break\n\n    if is_prime:\n        res.append(n)  # add prime number\n\nprint(res if res else \"None\")",
      "metadata": {
        "trusted": true
      },
      "outputs": [
        {
          "name": "stdout",
          "output_type": "stream",
          "text": "[2, 3, 5, 7, 11, 13, 17, 19, 23, 29, 31, 37, 41, 43, 47, 53, 59, 61, 67, 71, 73, 79, 83, 89, 97]\n"
        }
      ],
      "execution_count": 92
    },
    {
      "id": "608e2013-9737-4b7d-801c-74e04849bc96",
      "cell_type": "code",
      "source": "### 24. Convert [[1,2],[3,4],[5,6]] into [1,2,3,4,5,6] using nested list comprehension.\n\nm = [[1, 2], [3, 4], [5, 6]]\n\nflat = []\nfor nl in m:\n    for v in nl:\n        flat.append(v)\n\nprint(flat)",
      "metadata": {
        "trusted": true
      },
      "outputs": [
        {
          "name": "stdout",
          "output_type": "stream",
          "text": "[1, 2, 3, 4, 5, 6]\n"
        }
      ],
      "execution_count": 93
    },
    {
      "id": "5a44bb42-e57a-40b8-9c6a-4f21c077701b",
      "cell_type": "code",
      "source": "### 25. Count occurrences of each character in a string using dictionary comprehension.\n\ndef count_chars_comprehension(input_string):\n \n  char_counts = {char: input_string.count(char) for char in set(input_string)}\n  return char_counts\n    \ntest_string = \"Python is a Programming Language\"\ncounts = count_chars_comprehension(test_string)\nprint(f\"Original String: '{test_string}'\")\nprint(f\"Character Counts: {counts}\")",
      "metadata": {
        "trusted": true
      },
      "outputs": [
        {
          "name": "stdout",
          "output_type": "stream",
          "text": "Original String: 'Python is a Programming Language'\nCharacter Counts: {'i': 2, 'h': 1, 'm': 2, 'L': 1, 'o': 2, 'n': 3, 'a': 4, ' ': 4, 'e': 1, 'g': 4, 'y': 1, 'P': 2, 's': 1, 'r': 2, 'u': 1, 't': 1}\n"
        }
      ],
      "execution_count": 94
    },
    {
      "id": "6c18a6ef-cfec-4355-b549-4b3b525a02ec",
      "cell_type": "code",
      "source": "",
      "metadata": {
        "trusted": true
      },
      "outputs": [],
      "execution_count": null
    }
  ]
}